{
  "nbformat": 4,
  "nbformat_minor": 0,
  "metadata": {
    "colab": {
      "provenance": [],
      "authorship_tag": "ABX9TyOvX3ZPwtmr0qSbLrOq+Npw",
      "include_colab_link": true
    },
    "kernelspec": {
      "name": "python3",
      "display_name": "Python 3"
    },
    "language_info": {
      "name": "python"
    }
  },
  "cells": [
    {
      "cell_type": "markdown",
      "metadata": {
        "id": "view-in-github",
        "colab_type": "text"
      },
      "source": [
        "<a href=\"https://colab.research.google.com/github/felipeEddy/Alura-IA/blob/main/Project_Alura_IA_Immersion_Star_Trek.ipynb\" target=\"_parent\"><img src=\"https://colab.research.google.com/assets/colab-badge.svg\" alt=\"Open In Colab\"/></a>"
      ]
    },
    {
      "cell_type": "markdown",
      "source": [
        "Command to install Google AI library"
      ],
      "metadata": {
        "id": "t85fk20MqSXA"
      }
    },
    {
      "cell_type": "code",
      "source": [
        "pip install -q -U google-generativeai"
      ],
      "metadata": {
        "id": "m9RuAxUBwDB-"
      },
      "execution_count": null,
      "outputs": []
    },
    {
      "cell_type": "markdown",
      "source": [
        "Imports needed in the code"
      ],
      "metadata": {
        "id": "NyLqvOypqaKO"
      }
    },
    {
      "cell_type": "code",
      "source": [
        "import pandas as pd\n",
        "import numpy as np\n",
        "import google.generativeai as genai"
      ],
      "metadata": {
        "id": "98evRkGrqLHu"
      },
      "execution_count": null,
      "outputs": []
    },
    {
      "cell_type": "markdown",
      "source": [
        "Google AI configuration"
      ],
      "metadata": {
        "id": "eObPubneqpld"
      }
    },
    {
      "cell_type": "code",
      "source": [
        "GOOGLE_API_KEY='YOUR_API_KEY'\n",
        "genai.configure(api_key=GOOGLE_API_KEY)\n",
        "\n",
        "model_embed = \"models/embedding-001\"\n",
        "model_gen = \"gemini-1.0-pro\"\n",
        "\n",
        "generation_config = {\n",
        "  \"candidate_count\": 1,\n",
        "  \"temperature\": 0.5\n",
        "}"
      ],
      "metadata": {
        "id": "6S8nhNBbqN6W"
      },
      "execution_count": null,
      "outputs": []
    },
    {
      "cell_type": "markdown",
      "source": [
        "Google AI instances"
      ],
      "metadata": {
        "id": "q5__HuHXrghl"
      }
    },
    {
      "cell_type": "code",
      "source": [
        "model_2 = genai.GenerativeModel(model_gen,generation_config=generation_config)\n",
        "chat = model_2.start_chat(history=[])"
      ],
      "metadata": {
        "id": "BdnA8USXrmbs"
      },
      "execution_count": null,
      "outputs": []
    },
    {
      "cell_type": "markdown",
      "source": [
        "Template dataframe creation"
      ],
      "metadata": {
        "id": "mwcBWK6NqoOt"
      }
    },
    {
      "cell_type": "code",
      "source": [
        "data = {\n",
        "    'number': list(range(1, 28)),\n",
        "    'title': [\n",
        "        \"The Man Trap\", \"Charlie X\", \"Where No Man Has Gone Before\", \"The Naked Time\", \"The Enemy Within\",\n",
        "        \"Mudd's Women\", \"What Are Little Girls Made Of?\", \"Miri\", \"Dagger of the Mind\", \"The Corbomite Maneuver\",\n",
        "        \"The Menagerie, Part I\", \"The Menagerie, Part II\", \"The Conscience of the King\", \"Balance of Terror\",\n",
        "        \"Shore Leave\", \"The Galileo Seven\", \"Squirm\", \"Arena\", \"Tomorrow Is Yesterday\",\n",
        "        \"The Return of the Archons\", \"A Taste of Armageddon\", \"Space Seed\", \"This Side of Paradise\",\n",
        "        \"The Devil in the Dark\", \"Errand of Mercy\", \"The Alternative Factor\", \"The City on the Edge of Forever\"\n",
        "    ],\n",
        "    'content': [\n",
        "        \"The USS Enterprise answers a distress call from an outpost on planet M-113, only to find a shape-shifting creature that feeds on salt.\",\n",
        "        \"A troubled teenager with extraordinary powers is brought aboard the Enterprise.\",\n",
        "        \"The Enterprise encounters a barrier at the edge of the galaxy, and its crew is forever altered.\",\n",
        "        \"A virus strips away the crew's inhibitions, revealing their deepest desires.\",\n",
        "        \"A transporter malfunction creates a duplicate of Kirk, splitting his personality into good and evil.\",\n",
        "        \"Kirk encounters Harry Mudd and three beautiful women who are not what they seem.\",\n",
        "        \"The Enterprise encounters a powerful android who claims to be the creator of humanity.\",\n",
        "        \"The landing party is trapped on a planet where everyone over the age of puberty dies.\",\n",
        "        \"Kirk and Spock investigate a rehabilitation colony where a new therapy is causing violent insanity.\",\n",
        "        \"The Enterprise encounters a seemingly invincible alien vessel.\",\n",
        "        \"Spock is put on trial for mutiny and reveals a shocking secret about Captain Pike.\",\n",
        "        \"The story of Captain Pike continues as Spock's plan unfolds.\",\n",
        "        \"Kirk investigates a Shakespearean actor with a dark past.\",\n",
        "        \"The Enterprise faces off against a Romulan Bird-of-Prey in a tense game of cat-and-mouse.\",\n",
        "        \"The crew takes shore leave on a planet that can manifest their fantasies.\",\n",
        "        \"Spock must lead a landing party to safety after their shuttle crashes on a hostile planet.\",\n",
        "        \"The Enterprise encounters a giant, mutated silicon-based creature.\",\n",
        "        \"Kirk is forced to fight a Gorn captain to the death on a desolate planet.\",\n",
        "        \"The Enterprise travels back in time to 1969.\",\n",
        "        \"Kirk and Spock encounter a society controlled by a powerful entity called Landru.\",\n",
        "        \"Kirk must stop two planets from destroying each other with simulated war.\",\n",
        "        \"Khan Noonien Singh, a genetically engineered superhuman, awakens from suspended animation.\",\n",
        "        \"The Enterprise crew is tempted by a life of idyllic pleasure on a planet of telepathic beings.\",\n",
        "        \"Kirk must communicate with a creature that is killing miners on a mining colony.\",\n",
        "        \"Kirk and Spock get caught in a war between the Klingon Empire and the Federation.\",\n",
        "        \"The Enterprise encounters a being with the power to shift between parallel universes.\",\n",
        "        \"Kirk and Spock travel back in time to prevent a tragedy that could alter history.\",\n",
        "    ]\n",
        "}\n",
        "\n",
        "startrek_df = pd.DataFrame(data)"
      ],
      "metadata": {
        "id": "mQ69zn3aqxbv"
      },
      "execution_count": null,
      "outputs": []
    },
    {
      "cell_type": "markdown",
      "source": [
        "Base embedding functions"
      ],
      "metadata": {
        "id": "6SODQV4RrEfg"
      }
    },
    {
      "cell_type": "code",
      "source": [
        "def embed_fn(title, content):\n",
        "  return genai.embed_content(model=model_embed,\n",
        "                             content=content,\n",
        "                             title=title,\n",
        "                             task_type=\"RETRIEVAL_DOCUMENT\")[\"embedding\"]\n",
        "\n",
        "def add_embed_to_df(df):\n",
        "    df[\"embed\"] = df.apply(lambda row: embed_fn(row[\"title\"], row[\"content\"]), axis=1)"
      ],
      "metadata": {
        "id": "iFUrr7sNrI03"
      },
      "execution_count": null,
      "outputs": []
    },
    {
      "cell_type": "markdown",
      "source": [
        "Main search function. It is possible to use multiple dataframes for the search. In the current code I'm using only one."
      ],
      "metadata": {
        "id": "ORq2qwwnrV71"
      }
    },
    {
      "cell_type": "code",
      "source": [
        "def generate_search(query, dataframes):\n",
        "    query_embed = embed_fn(\"\", query)\n",
        "    best_result = None\n",
        "    best_score = -1\n",
        "\n",
        "    for df in dataframes:\n",
        "        for col in df.columns:\n",
        "            if col != \"embed\":\n",
        "                dot_products = np.dot(np.stack(df[\"embed\"]), query_embed)\n",
        "                index = np.argmax(dot_products)\n",
        "                score = dot_products[index]\n",
        "\n",
        "                if score > best_score:\n",
        "                    best_score = score\n",
        "                    best_result = {\n",
        "                        \"json\": df.iloc[index].to_json(),\n",
        "                        \"content\": df.iloc[index][col]\n",
        "                    }\n",
        "\n",
        "    return best_result"
      ],
      "metadata": {
        "id": "EMwLyH5erYx_"
      },
      "execution_count": null,
      "outputs": []
    },
    {
      "cell_type": "markdown",
      "source": [
        "Function that will handle the conversation and final response to the user. With the Google AI chat function, it is possible to simulate a conversation. Otherwise it would return fixed text found in the dataframe."
      ],
      "metadata": {
        "id": "eG5j26K2rq-1"
      }
    },
    {
      "cell_type": "code",
      "source": [
        "def final_response(query, result):\n",
        "    prompt = f\"Theme: Star trek. Keep the context in as in the response. Considering this query:'{query}' and this dataframe column as response: '{result['json']}', elaborate a more user friendly response.\"\n",
        "\n",
        "    response = chat.send_message(prompt)\n",
        "    return response.text"
      ],
      "metadata": {
        "id": "ex8moemNrwsX"
      },
      "execution_count": null,
      "outputs": []
    },
    {
      "cell_type": "markdown",
      "source": [
        "User interaction code. Here the user can make questions like \"What happened in planet M-113?\"."
      ],
      "metadata": {
        "id": "Py3BeIxzrzY9"
      }
    },
    {
      "cell_type": "code",
      "execution_count": 49,
      "metadata": {
        "colab": {
          "base_uri": "https://localhost:8080/",
          "height": 139
        },
        "id": "_iPOy1r5jfg8",
        "outputId": "920d17f0-7f17-4c91-9a27-fb42e54143b9"
      },
      "outputs": [
        {
          "name": "stdout",
          "output_type": "stream",
          "text": [
            "Enter your query (or 'exit' to close): What happened in planet M-113?\n",
            "**On planet M-113, the USS Enterprise encountered a shape-shifting creature that fed on salt.**\n",
            "\n",
            "The creature, which could take on the form of any living being, had been terrorizing the planet's inhabitants. The Enterprise crew quickly realized that the creature was vulnerable to salt, and they used this knowledge to defeat it.\n",
            "\n",
            "The creature was eventually killed when Captain Kirk used a phaser to vaporize it. The Enterprise crew then left M-113, leaving the planet's inhabitants to rebuild their lives.\n",
            "Enter your query (or 'exit' to close): exit\n"
          ]
        }
      ],
      "source": [
        "add_embed_to_df(startrek_df)\n",
        "\n",
        "while True:\n",
        "    query = input(\"Enter your query (or 'exit' to close): \")\n",
        "    if query.lower() == \"exit\":\n",
        "        break\n",
        "\n",
        "    query_resp = generate_search(query, [startrek_df])\n",
        "    final_resp = final_response(query, query_resp)\n",
        "    print(f\"{final_resp}\")"
      ]
    }
  ]
}